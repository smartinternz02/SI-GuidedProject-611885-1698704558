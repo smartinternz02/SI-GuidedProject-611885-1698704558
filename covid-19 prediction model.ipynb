{
  "cells": [
    {
      "cell_type": "code",
      "execution_count": 4,
      "metadata": {
        "id": "_jP8enKJSc1E"
      },
      "outputs": [],
      "source": [
        "from tensorflow.keras.preprocessing.image import ImageDataGenerator\n",
        "import tensorflow as tf"
      ]
    },
    {
      "cell_type": "code",
      "execution_count": 5,
      "metadata": {
        "id": "XRM44QmrTA00"
      },
      "outputs": [],
      "source": [
        "train_path = r\"C:\\Users\\jayvinit\\Desktop\\Group_Project_Smart_Internz\\Model_data\\train\"\n",
        "test_path = r\"C:\\Users\\jayvinit\\Desktop\\Group_Project_Smart_Internz\\Model_data\\test\""
      ]
    },
    {
      "cell_type": "code",
      "execution_count": 6,
      "metadata": {
        "id": "UMAr93KUTKem"
      },
      "outputs": [],
      "source": [
        "train_datagen = ImageDataGenerator(rescale = 1/255,zoom_range=0.2, shear_range = 0.2)\n",
        "test_datagen = ImageDataGenerator(rescale = 1/255)"
      ]
    },
    {
      "cell_type": "code",
      "execution_count": 7,
      "metadata": {
        "colab": {
          "base_uri": "https://localhost:8080/"
        },
        "id": "be8k_okzTiQ_",
        "outputId": "baf400d5-0254-4504-a3f3-acd131b86168"
      },
      "outputs": [
        {
          "name": "stdout",
          "output_type": "stream",
          "text": [
            "Found 4186 images belonging to 3 classes.\n",
            "Found 1044 images belonging to 3 classes.\n"
          ]
        }
      ],
      "source": [
        "train = train_datagen.flow_from_directory(train_path, target_size=(232,232),batch_size=32)\n",
        "test = test_datagen.flow_from_directory(test_path, target_size=(232,232),batch_size=32)"
      ]
    },
    {
      "cell_type": "code",
      "execution_count": 8,
      "metadata": {},
      "outputs": [],
      "source": [
        "import numpy as np\n",
        "\n",
        "# Get true labels\n",
        "true_labels = []\n",
        "\n",
        "num_steps = len(test)\n",
        "for i in range(num_steps):\n",
        "    images, labels = test[i]\n",
        "    true_labels.extend(np.argmax(labels, axis=1))\n",
        "\n",
        "true_labels = np.array(true_labels)"
      ]
    },
    {
      "cell_type": "markdown",
      "metadata": {
        "id": "-RpEciKFppHN"
      },
      "source": [
        "VGG 16"
      ]
    },
    {
      "cell_type": "code",
      "execution_count": null,
      "metadata": {
        "id": "fnGII3mjpDTm"
      },
      "outputs": [],
      "source": [
        "from tensorflow.keras.applications.vgg16 import VGG16\n",
        "from tensorflow.keras.models import Sequential\n",
        "from tensorflow.keras.layers import Dense, Flatten\n"
      ]
    },
    {
      "cell_type": "code",
      "execution_count": null,
      "metadata": {
        "id": "lwnFhEB3qFH3"
      },
      "outputs": [],
      "source": [
        "conv_base = VGG16(weights='imagenet',include_top =False,input_shape=(232,232,3))"
      ]
    },
    {
      "cell_type": "code",
      "execution_count": null,
      "metadata": {
        "colab": {
          "base_uri": "https://localhost:8080/"
        },
        "id": "gDq5nuKTrsKS",
        "outputId": "e5d20c19-2cac-4376-b374-e7331752ae4c"
      },
      "outputs": [
        {
          "name": "stdout",
          "output_type": "stream",
          "text": [
            "Model: \"vgg16\"\n",
            "_________________________________________________________________\n",
            " Layer (type)                Output Shape              Param #   \n",
            "=================================================================\n",
            " input_1 (InputLayer)        [(None, 232, 232, 3)]     0         \n",
            "                                                                 \n",
            " block1_conv1 (Conv2D)       (None, 232, 232, 64)      1792      \n",
            "                                                                 \n",
            " block1_conv2 (Conv2D)       (None, 232, 232, 64)      36928     \n",
            "                                                                 \n",
            " block1_pool (MaxPooling2D)  (None, 116, 116, 64)      0         \n",
            "                                                                 \n",
            " block2_conv1 (Conv2D)       (None, 116, 116, 128)     73856     \n",
            "                                                                 \n",
            " block2_conv2 (Conv2D)       (None, 116, 116, 128)     147584    \n",
            "                                                                 \n",
            " block2_pool (MaxPooling2D)  (None, 58, 58, 128)       0         \n",
            "                                                                 \n",
            " block3_conv1 (Conv2D)       (None, 58, 58, 256)       295168    \n",
            "                                                                 \n",
            " block3_conv2 (Conv2D)       (None, 58, 58, 256)       590080    \n",
            "                                                                 \n",
            " block3_conv3 (Conv2D)       (None, 58, 58, 256)       590080    \n",
            "                                                                 \n",
            " block3_pool (MaxPooling2D)  (None, 29, 29, 256)       0         \n",
            "                                                                 \n",
            " block4_conv1 (Conv2D)       (None, 29, 29, 512)       1180160   \n",
            "                                                                 \n",
            " block4_conv2 (Conv2D)       (None, 29, 29, 512)       2359808   \n",
            "                                                                 \n",
            " block4_conv3 (Conv2D)       (None, 29, 29, 512)       2359808   \n",
            "                                                                 \n",
            " block4_pool (MaxPooling2D)  (None, 14, 14, 512)       0         \n",
            "                                                                 \n",
            " block5_conv1 (Conv2D)       (None, 14, 14, 512)       2359808   \n",
            "                                                                 \n",
            " block5_conv2 (Conv2D)       (None, 14, 14, 512)       2359808   \n",
            "                                                                 \n",
            " block5_conv3 (Conv2D)       (None, 14, 14, 512)       2359808   \n",
            "                                                                 \n",
            " block5_pool (MaxPooling2D)  (None, 7, 7, 512)         0         \n",
            "                                                                 \n",
            "=================================================================\n",
            "Total params: 14714688 (56.13 MB)\n",
            "Trainable params: 14714688 (56.13 MB)\n",
            "Non-trainable params: 0 (0.00 Byte)\n",
            "_________________________________________________________________\n"
          ]
        }
      ],
      "source": [
        "conv_base.summary()"
      ]
    },
    {
      "cell_type": "code",
      "execution_count": null,
      "metadata": {
        "id": "teu_a2YZs_OA"
      },
      "outputs": [],
      "source": [
        "model = Sequential()\n",
        "model.add(conv_base)\n",
        "model.add(Flatten())\n",
        "model.add(Dense(256,activation='relu'))\n",
        "model.add(Dense(3,activation='softmax'))"
      ]
    },
    {
      "cell_type": "code",
      "execution_count": null,
      "metadata": {
        "id": "rTr2XJWetMBK"
      },
      "outputs": [],
      "source": []
    },
    {
      "cell_type": "code",
      "execution_count": null,
      "metadata": {
        "colab": {
          "base_uri": "https://localhost:8080/"
        },
        "id": "ZRwRf8WTtjw1",
        "outputId": "074f48d6-f8ab-40e1-9e6a-38cea54a8657"
      },
      "outputs": [
        {
          "name": "stdout",
          "output_type": "stream",
          "text": [
            "Model: \"sequential\"\n",
            "_________________________________________________________________\n",
            " Layer (type)                Output Shape              Param #   \n",
            "=================================================================\n",
            " vgg16 (Functional)          (None, 7, 7, 512)         14714688  \n",
            "                                                                 \n",
            " flatten (Flatten)           (None, 25088)             0         \n",
            "                                                                 \n",
            " dense (Dense)               (None, 256)               6422784   \n",
            "                                                                 \n",
            " dense_1 (Dense)             (None, 3)                 771       \n",
            "                                                                 \n",
            "=================================================================\n",
            "Total params: 21138243 (80.64 MB)\n",
            "Trainable params: 21138243 (80.64 MB)\n",
            "Non-trainable params: 0 (0.00 Byte)\n",
            "_________________________________________________________________\n"
          ]
        }
      ],
      "source": [
        "model.summary()"
      ]
    },
    {
      "cell_type": "code",
      "execution_count": null,
      "metadata": {
        "id": "50TkO2qct0sJ"
      },
      "outputs": [],
      "source": [
        "# Freezing the convolutional base\n",
        "conv_base.trainable=False"
      ]
    },
    {
      "cell_type": "code",
      "execution_count": null,
      "metadata": {
        "colab": {
          "base_uri": "https://localhost:8080/"
        },
        "id": "XIZ8XvTbuRaT",
        "outputId": "87247f74-815b-49a8-8168-06a3bb879b41"
      },
      "outputs": [
        {
          "name": "stdout",
          "output_type": "stream",
          "text": [
            "Model: \"sequential\"\n",
            "_________________________________________________________________\n",
            " Layer (type)                Output Shape              Param #   \n",
            "=================================================================\n",
            " vgg16 (Functional)          (None, 7, 7, 512)         14714688  \n",
            "                                                                 \n",
            " flatten (Flatten)           (None, 25088)             0         \n",
            "                                                                 \n",
            " dense (Dense)               (None, 256)               6422784   \n",
            "                                                                 \n",
            " dense_1 (Dense)             (None, 3)                 771       \n",
            "                                                                 \n",
            "=================================================================\n",
            "Total params: 21138243 (80.64 MB)\n",
            "Trainable params: 6423555 (24.50 MB)\n",
            "Non-trainable params: 14714688 (56.13 MB)\n",
            "_________________________________________________________________\n"
          ]
        }
      ],
      "source": [
        "model.summary()"
      ]
    },
    {
      "cell_type": "code",
      "execution_count": null,
      "metadata": {
        "id": "ne4hfhfBuTxb"
      },
      "outputs": [],
      "source": [
        "#compiling the mode.\n",
        "model.compile(loss=\"categorical_crossentropy\",optimizer=\"adam\",metrics=\"accuracy\")"
      ]
    },
    {
      "cell_type": "code",
      "execution_count": null,
      "metadata": {
        "id": "ue64Ibz7x1G8"
      },
      "outputs": [],
      "source": [
        "class StopTrainingCallback(tf.keras.callbacks.Callback):\n",
        "    def on_epoch_end(self, epoch, logs={}):\n",
        "        if logs.get('val_accuracy') >= 0.990:\n",
        "            print(\"\\nValidation accuracy reached 80.0% or higher. Stopping training.\")\n",
        "            self.model.stop_training = True"
      ]
    },
    {
      "cell_type": "code",
      "execution_count": null,
      "metadata": {
        "colab": {
          "base_uri": "https://localhost:8080/"
        },
        "id": "ZGeAYeSfvWVk",
        "outputId": "910fe711-d217-48af-c37a-a22c98accc5a"
      },
      "outputs": [
        {
          "name": "stdout",
          "output_type": "stream",
          "text": [
            "Epoch 1/10\n",
            "131/131 [==============================] - 1800s 14s/step - loss: 0.2812 - accuracy: 0.8982 - val_loss: 0.3894 - val_accuracy: 0.8750\n",
            "Epoch 2/10\n",
            "131/131 [==============================] - 1798s 14s/step - loss: 0.1477 - accuracy: 0.9522 - val_loss: 0.4043 - val_accuracy: 0.9062\n",
            "Epoch 3/10\n",
            "131/131 [==============================] - ETA: 0s - loss: 0.1179 - accuracy: 0.9651 \n",
            "Validation accuracy reached 80.0% or higher. Stopping training.\n",
            "131/131 [==============================] - 1799s 14s/step - loss: 0.1179 - accuracy: 0.9651 - val_loss: 0.0737 - val_accuracy: 1.0000\n"
          ]
        },
        {
          "name": "stderr",
          "output_type": "stream",
          "text": [
            "/usr/local/lib/python3.10/dist-packages/keras/src/engine/training.py:3079: UserWarning: You are saving your model as an HDF5 file via `model.save()`. This file format is considered legacy. We recommend using instead the native Keras format, e.g. `model.save('my_model.keras')`.\n",
            "  saving_api.save_model(\n"
          ]
        }
      ],
      "source": [
        "#fit the model\n",
        "model.fit(train,epochs=10,\n",
        "          validation_data = test,\n",
        "          validation_steps= len(test)//32,\n",
        "          callbacks=[StopTrainingCallback()])\n",
        "model.save('/content/drive/MyDrive/Covid data/Models/train_2.h5')\n"
      ]
    },
    {
      "cell_type": "code",
      "execution_count": null,
      "metadata": {
        "id": "8Qh_3EgyuuYF"
      },
      "outputs": [],
      "source": [
        "from tensorflow.keras.preprocessing import image\n",
        "import numpy as np"
      ]
    },
    {
      "cell_type": "code",
      "execution_count": 9,
      "metadata": {
        "id": "XYNiMtM_vzFm"
      },
      "outputs": [],
      "source": [
        "from tensorflow.keras.models import load_model\n",
        "model = load_model('train_2.h5')"
      ]
    },
    {
      "cell_type": "code",
      "execution_count": 10,
      "metadata": {},
      "outputs": [
        {
          "ename": "",
          "evalue": "",
          "output_type": "error",
          "traceback": [
            "\u001b[1;31mThe Kernel crashed while executing code in the the current cell or a previous cell. Please review the code in the cell(s) to identify a possible cause of the failure. Click <a href='https://aka.ms/vscodeJupyterKernelCrash'>here</a> for more info. View Jupyter <a href='command:jupyter.viewOutput'>log</a> for further details."
          ]
        }
      ],
      "source": [
        "predictions = model.predict(test)\n",
        "predicted_class = np.argmax(predictions, axis=1)"
      ]
    },
    {
      "cell_type": "code",
      "execution_count": null,
      "metadata": {
        "colab": {
          "base_uri": "https://localhost:8080/"
        },
        "id": "pnsAUJc-tQ3m",
        "outputId": "d4cf1d0a-86c7-4a71-ef31-e88418727c00"
      },
      "outputs": [
        {
          "name": "stdout",
          "output_type": "stream",
          "text": [
            "{'COVID': 0, 'NORMAL': 1, 'PNEUMONIA': 2}\n"
          ]
        }
      ],
      "source": [
        "print(train.class_indices)"
      ]
    },
    {
      "cell_type": "code",
      "execution_count": null,
      "metadata": {
        "colab": {
          "base_uri": "https://localhost:8080/",
          "height": 53
        },
        "id": "t1XtzXektgwe",
        "outputId": "89646a32-1fe1-4cbd-b940-72da20bc7993"
      },
      "outputs": [
        {
          "name": "stdout",
          "output_type": "stream",
          "text": [
            "1/1 [==============================] - 0s 396ms/step\n"
          ]
        },
        {
          "data": {
            "application/vnd.google.colaboratory.intrinsic+json": {
              "type": "string"
            },
            "text/plain": [
              "'PNEUMONIA'"
            ]
          },
          "execution_count": 30,
          "metadata": {},
          "output_type": "execute_result"
        }
      ],
      "source": [
        "\n",
        "img = image.load_img('/content/drive/MyDrive/Covid data/Model_data/test/PNEUMONIA/PNEUMONIA_1449.png',target_size=(232,232))\n",
        "x = image.img_to_array(img)\n",
        "x = np.expand_dims(x,axis=0)\n",
        "pred = model.predict(x)\n",
        "pred_class = np.argmax(pred, axis=1)\n",
        "index = ['COVID','NORMAL','PNEUMONIA']\n",
        "str(index[pred_class[0]])"
      ]
    },
    {
      "cell_type": "code",
      "execution_count": null,
      "metadata": {
        "id": "FGUyT0nTt6dv"
      },
      "outputs": [],
      "source": [
        "x.ndim"
      ]
    },
    {
      "cell_type": "code",
      "execution_count": null,
      "metadata": {
        "colab": {
          "base_uri": "https://localhost:8080/"
        },
        "id": "8R8y4moyp4tX",
        "outputId": "ace35226-a22d-4a47-a284-8c383c44a6a7"
      },
      "outputs": [
        {
          "name": "stdout",
          "output_type": "stream",
          "text": [
            "131/131 [==============================] - 1779s 14s/step - loss: 0.0756 - accuracy: 0.9768\n"
          ]
        }
      ],
      "source": [
        "_, train_accuracy = model.evaluate(train)"
      ]
    },
    {
      "cell_type": "code",
      "execution_count": null,
      "metadata": {
        "colab": {
          "base_uri": "https://localhost:8080/"
        },
        "id": "F4epcCXhqBib",
        "outputId": "0e045db1-c47f-445a-f41a-c5213505c9d7"
      },
      "outputs": [
        {
          "name": "stdout",
          "output_type": "stream",
          "text": [
            "Test accuracy: 97.68%\n"
          ]
        }
      ],
      "source": [
        "print(f'Test accuracy: {train_accuracy* 100:.2f}%')"
      ]
    },
    {
      "cell_type": "code",
      "execution_count": null,
      "metadata": {
        "colab": {
          "base_uri": "https://localhost:8080/"
        },
        "id": "0vs_8FUBuAlq",
        "outputId": "4c23af3c-cb3b-4ea1-d5c5-e4f8821abf99"
      },
      "outputs": [
        {
          "name": "stdout",
          "output_type": "stream",
          "text": [
            "33/33 [==============================] - 444s 13s/step - loss: 0.1425 - accuracy: 0.9521\n"
          ]
        }
      ],
      "source": [
        "test_loss, test_accuracy = model.evaluate(test)"
      ]
    },
    {
      "cell_type": "code",
      "execution_count": null,
      "metadata": {
        "colab": {
          "base_uri": "https://localhost:8080/"
        },
        "id": "OhRxDRvrxtGj",
        "outputId": "4b0fb207-6e28-4f7e-a8cf-dcc040e37fb7"
      },
      "outputs": [
        {
          "name": "stdout",
          "output_type": "stream",
          "text": [
            "Test accuracy: 95.21%\n"
          ]
        }
      ],
      "source": [
        "print(f'Test accuracy: {test_accuracy* 100:.2f}%')"
      ]
    }
  ],
  "metadata": {
    "accelerator": "TPU",
    "colab": {
      "provenance": [],
      "toc_visible": true
    },
    "kernelspec": {
      "display_name": "Python 3",
      "name": "python3"
    },
    "language_info": {
      "codemirror_mode": {
        "name": "ipython",
        "version": 3
      },
      "file_extension": ".py",
      "mimetype": "text/x-python",
      "name": "python",
      "nbconvert_exporter": "python",
      "pygments_lexer": "ipython3",
      "version": "3.11.4"
    }
  },
  "nbformat": 4,
  "nbformat_minor": 0
}
